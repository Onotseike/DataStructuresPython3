{
 "cells" : [
  {
   "cell_type" : "code",
   "execution_count" : 0,
   "metadata" : {
    "collapsed" : true,
    "pycharm" : {
     "is_executing" : false
    }
   },
   "outputs" : [ ],
   "source" : [ ]
  },
  {
   "cell_type" : "code",
   "execution_count" : 1,
   "outputs" : [ ],
   "source" : [
    "def sub_array_with_sum(array : list, num_sum : int):\n",
    "    array_length = len(array)\n",
    "    for id in range(array_length):\n",
    "        sum = array[id]\n",
    "        idx = id + 1\n",
    "        while idx < array_length:\n",
    "            sum += array[idx]\n",
    "            if  sum > num_sum:\n",
    "                break\n",
    "            else:\n",
    "                if sum == num_sum: return id+1, idx+1\n",
    "                else: idx += 1\n",
    "    return -1"
   ],
   "metadata" : {
    "collapsed" : false,
    "pycharm" : {
     "name" : "#%%\n",
     "is_executing" : false
    }
   }
  },
  {
   "cell_type" : "code",
   "execution_count" : 2,
   "outputs" : [ ],
   "source" : [
    "test_one = sub_array_with_sum([1,2,3,7,5], 12)\n",
    "test_two = sub_array_with_sum([1,2,3,4,5,6,7,8,9,10], 15)"
   ],
   "metadata" : {
    "collapsed" : false,
    "pycharm" : {
     "name" : "#%%\n",
     "is_executing" : false
    }
   }
  },
  {
   "cell_type" : "code",
   "execution_count" : 3,
   "outputs" : [ ],
   "source" : [
    "def solution():\n",
    "    test_cases = int(input())\n",
    "    while test_cases > 0:\n",
    "        length_array = int(input())\n",
    "        array = [int(x) for x in input().strip().split()]\n",
    "\n",
    "        max_sum = float('-inf')\n",
    "        max_end = 0\n",
    "        for element in array:\n",
    "            max_end += element\n",
    "            max_end = max(element, max_end)\n",
    "            max_sum = max(max_sum, max_end)\n",
    "        print(max_sum)\n",
    "        test_cases -= 1\n"
   ],
   "metadata" : {
    "collapsed" : false,
    "pycharm" : {
     "name" : "#%%\n",
     "is_executing" : false
    }
   }
  },
  {
   "cell_type" : "code",
   "execution_count" : 4,
   "outputs" : [ ],
   "source" : [
    "def kadanes_alg(array: list):\n",
    "    max_sum = float('-inf')\n",
    "    max_end = 0\n",
    "    for element in array:\n",
    "        max_end += element\n",
    "        max_end = max(element, max_end)\n",
    "        max_sum = max(max_sum, max_end)"
   ],
   "metadata" : {
    "collapsed" : false,
    "pycharm" : {
     "name" : "#%%\n",
     "is_executing" : false
    }
   }
  },
  {
   "cell_type" : "code",
   "execution_count" : 5,
   "outputs" : [ ],
   "source" : [
    "def missing_num(array : list, num):\n",
    "    total_sum = ((num * num) + num)/2\n",
    "    print(int(total_sum - sum(array)))"
   ],
   "metadata" : {
    "collapsed" : false,
    "pycharm" : {
     "name" : "#%%\n",
     "is_executing" : false
    }
   }
  },
  {
   "cell_type" : "code",
   "execution_count" : 6,
   "outputs" : [ ],
   "source" : [
    "def merge_without_extra_space(array_one, array_two):\n",
    "    array_one += array_two\n",
    "    array_one.sort()\n",
    "    return str(array_one).strip('[ ]').replace(',', '')"
   ],
   "metadata" : {
    "collapsed" : false,
    "pycharm" : {
     "name" : "#%%\n",
     "is_executing" : false
    }
   }
  },
  {
   "cell_type" : "code",
   "execution_count" : 7,
   "outputs" : [ ],
   "source" : [
    "x = merge_without_extra_space([1,3,5,7],[1,3,5,7])\n"
   ],
   "metadata" : {
    "collapsed" : false,
    "pycharm" : {
     "name" : "#%%\n",
     "is_executing" : false
    }
   }
  }
 ],
 "metadata" : {
  "kernelspec" : {
   "display_name" : "Python 3",
   "language" : "python",
   "name" : "python3"
  },
  "language_info" : {
   "codemirror_mode" : {
    "name" : "ipython",
    "version" : 2
   },
   "file_extension" : ".py",
   "mimetype" : "text/x-python",
   "name" : "python",
   "nbconvert_exporter" : "python",
   "pygments_lexer" : "ipython2",
   "version" : "2.7.6"
  },
  "pycharm" : {
   "stem_cell" : {
    "cell_type" : "raw",
    "source" : [ ],
    "metadata" : {
     "collapsed" : false
    }
   }
  }
 },
 "nbformat" : 4,
 "nbformat_minor" : 0
}