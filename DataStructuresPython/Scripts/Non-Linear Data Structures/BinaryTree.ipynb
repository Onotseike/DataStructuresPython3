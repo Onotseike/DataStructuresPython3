{
 "cells" : [
  {
   "cell_type" : "code",
   "execution_count" : 19,
   "metadata" : {
    "pycharm" : {
     "is_executing" : false
    }
   },
   "outputs" : [ ],
   "source" : [
    "### Binary Tree\n",
    "### Trees follow a hierarchical structure as opposed to the linear structure its linear counterparts espouse.\n",
    "\n",
    "### As the name implies, a binary tree is classes as a tree data structure which consists of nodes wherein, each nodes has at most two child nodes connected to it. \n",
    "### Implementations are achieved primarily using links.\n",
    "\n",
    "import  enum\n",
    "\n",
    "class DepthFirstTraversalType(enum.Enum):\n",
    "    in_order = 0 # left - root- right\n",
    "    pre_order = 1 # root - left - right\n",
    "    post_order = 2 # left - right - root\n",
    "\n",
    "class ChildNode(enum.Enum):\n",
    "    left = 0\n",
    "    right = 1\n",
    "\n",
    "class BTNode:\n",
    "    def __init__(self, data):\n",
    "        self.data = data\n",
    "        self.left_pointer = None\n",
    "        self.right_pointer = None\n",
    "\n",
    "class BinaryTree:\n",
    "    def __init__(self):\n",
    "        self.root = None\n",
    "\n",
    "    def add_node(self, parent_node : BTNode, new_node : BTNode, node_location:ChildNode):\n",
    "        if  node_location is ChildNode.left:\n",
    "            if parent_node:\n",
    "                parent_node.left_pointer = new_node\n",
    "            else:\n",
    "                self.root = new_node\n",
    "                return\n",
    "        else:\n",
    "            if parent_node:\n",
    "                parent_node.right_pointer = new_node\n",
    "            else:\n",
    "                self.root = new_node\n",
    "                return\n",
    "        if self.root is None:\n",
    "            self.root = parent_node\n",
    "\n",
    "    def depth_first_traversal(self, root_node : BTNode, dft_type : DepthFirstTraversalType, visited_nodes = []):\n",
    "        if root_node:\n",
    "            if dft_type is DepthFirstTraversalType.in_order:\n",
    "                self.depth_first_traversal(root_node.left_pointer, DepthFirstTraversalType.in_order, visited_nodes)\n",
    "\n",
    "                visited_nodes.append(root_node.data)\n",
    "\n",
    "                self.depth_first_traversal(root_node.right_pointer, DepthFirstTraversalType.in_order, visited_nodes)\n",
    "\n",
    "            elif dft_type is DepthFirstTraversalType.pre_order:\n",
    "                visited_nodes.append(root_node.data)\n",
    "                \n",
    "                self.depth_first_traversal(root_node.left_pointer, DepthFirstTraversalType.pre_order, visited_nodes)\n",
    "                \n",
    "                self.depth_first_traversal(root_node.right_pointer, DepthFirstTraversalType.pre_order, visited_nodes)\n",
    "\n",
    "            else:\n",
    "                 self.depth_first_traversal(root_node.left_pointer, DepthFirstTraversalType.post_order, visited_nodes)\n",
    "\n",
    "                 self.depth_first_traversal(root_node.right_pointer, DepthFirstTraversalType.post_order, visited_nodes)\n",
    "                 \n",
    "                 visited_nodes.append(root_node.data)\n",
    "\n",
    "        return visited_nodes\n",
    "\n",
    "    def breath_first_traversal(self, left : BTNode, right : BTNode, visited_nodes = []):\n",
    "        if left is not None:\n",
    "            visited_nodes.append(left.data)\n",
    "        if right is not None:\n",
    "            visited_nodes.append(right.data)\n",
    "\n",
    "        if left is not None:\n",
    "            if right is not None:\n",
    "                self.breath_first_traversal(left.left_pointer, left.right_pointer, visited_nodes)\n",
    "                self.breath_first_traversal(right.left_pointer, right.right_pointer, visited_nodes)\n",
    "            else:\n",
    "                self.breath_first_traversal(left.left_pointer, left.right_pointer, visited_nodes)\n",
    "        return visited_nodes"
   ]
  },
  {
   "cell_type" : "code",
   "execution_count" : 20,
   "metadata" : {
    "pycharm" : {
     "is_executing" : false
    }
   },
   "outputs" : [
    {
     "name" : "stdout",
     "text" : [
      "<__main__.BTNode object at 0x000001F7D8877448>\n",
      "[4, 2, 5, 1, 3]\n",
      "\n",
      "\n",
      "[1, 2, 4, 5, 3]\n",
      "\n",
      "\n",
      "[4, 5, 2, 3, 1]\n",
      "\n",
      "\n",
      "[1, 2, 3, 4, 5]\n"
     ],
     "output_type" : "stream"
    }
   ],
   "source" : [
    "binaryTree = BinaryTree()\n",
    "\n",
    "node_one = BTNode(1)\n",
    "node_two = BTNode(2)\n",
    "node_three = BTNode(3)\n",
    "node_four = BTNode(4)\n",
    "node_five = BTNode(5)\n",
    "\n",
    "binaryTree.add_node(parent_node= None, new_node = node_one, node_location = ChildNode.right)\n",
    "\n",
    "binaryTree.add_node(parent_node= node_one, new_node = node_two, node_location = ChildNode.left)\n",
    "\n",
    "binaryTree.add_node(parent_node= node_one, new_node = node_three, node_location = ChildNode.right)\n",
    "\n",
    "binaryTree.add_node(parent_node= node_two, new_node = node_four, node_location = ChildNode.left)\n",
    "\n",
    "binaryTree.add_node(parent_node= node_two, new_node = node_five, node_location = ChildNode.right)\n",
    "\n",
    "print(binaryTree.root)\n",
    "\n",
    "print(binaryTree.depth_first_traversal(binaryTree.root, DepthFirstTraversalType.in_order, []))\n",
    "print()\n",
    "print()\n",
    "print(binaryTree.depth_first_traversal(binaryTree.root, DepthFirstTraversalType.pre_order, []))\n",
    "print()\n",
    "print()\n",
    "print(binaryTree.depth_first_traversal(binaryTree.root, DepthFirstTraversalType.post_order, []))\n",
    "print()\n",
    "print()\n",
    "print(binaryTree.breath_first_traversal(binaryTree.root, None, []))\n",
    "\n",
    "\n"
   ]
  }
 ],
 "metadata" : {
  "kernelspec" : {
   "name" : "python3",
   "language" : "python",
   "display_name" : "Python 3"
  },
  "language_info" : {
   "codemirror_mode" : {
    "name" : "ipython",
    "version" : 2
   },
   "file_extension" : ".py",
   "mimetype" : "text/x-python",
   "name" : "python",
   "nbconvert_exporter" : "python",
   "pygments_lexer" : "ipython2",
   "version" : "3.7.3-final"
  },
  "pycharm" : {
   "stem_cell" : {
    "cell_type" : "raw",
    "source" : [ ],
    "metadata" : {
     "collapsed" : false
    }
   }
  }
 },
 "nbformat" : 4,
 "nbformat_minor" : 0
}